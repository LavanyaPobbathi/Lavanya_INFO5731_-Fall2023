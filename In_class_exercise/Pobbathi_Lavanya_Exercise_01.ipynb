{
  "cells": [
    {
      "cell_type": "markdown",
      "metadata": {
        "id": "view-in-github",
        "colab_type": "text"
      },
      "source": [
        "<a href=\"https://colab.research.google.com/github/LavanyaPobbathi/Lavanya_INFO5731_Fall2023/blob/main/In_class_exercise/Pobbathi_Lavanya_Exercise_01.ipynb\" target=\"_parent\"><img src=\"https://colab.research.google.com/assets/colab-badge.svg\" alt=\"Open In Colab\"/></a>"
      ]
    },
    {
      "cell_type": "markdown",
      "metadata": {
        "id": "DymRJbxDBCnf"
      },
      "source": [
        "# **The first In-class-exercise (08/30/2023, 40 points in total)**\n",
        "This exercise is due tomorrow 08/31/203 11:59 PM.\n"
      ]
    },
    {
      "cell_type": "markdown",
      "source": [
        "(1) Write a Python program to calculate the area of a rectangle using\n",
        "\n",
        "1.   List item\n",
        "2.   List item\n",
        "\n",
        "user-input length and width."
      ],
      "metadata": {
        "id": "FBKvD6O_TY6e"
      }
    },
    {
      "cell_type": "code",
      "source": [
        "# write your answer here\n",
        "\n",
        "def areaOfRectangle(length, width):\n",
        "    area = length * width\n",
        "    return area\n",
        "\n",
        "try:\n",
        "    length = float(input(\"Enter the length of the rectangle: \"))\n",
        "    width = float(input(\"Enter the width of the rectangle: \"))\n",
        "    area = areaOfRectangle(length, width)\n",
        "    print(\"The area of the rectangle is:\", area)\n",
        "except ValueError:\n",
        "    print(\"Invalid input. Please enter valid numbers for length and width.\")\n"
      ],
      "metadata": {
        "id": "cikVKDXdTbzE",
        "colab": {
          "base_uri": "https://localhost:8080/"
        },
        "outputId": "a7e36bce-4573-4037-ac18-3c20b3fb4ce6"
      },
      "execution_count": null,
      "outputs": [
        {
          "output_type": "stream",
          "name": "stdout",
          "text": [
            "Enter the length of the rectangle: 10\n",
            "Enter the width of the rectangle: 20\n",
            "The area of the rectangle is: 200.0\n"
          ]
        }
      ]
    },
    {
      "cell_type": "markdown",
      "source": [
        "(2) Create a program that takes two numbers from the user and swaps their values without using a temporary variable."
      ],
      "metadata": {
        "id": "E9RqrlwdTfvl"
      }
    },
    {
      "cell_type": "code",
      "source": [
        "def swapValues(a, b):\n",
        "    a = a + b\n",
        "    b = a - b\n",
        "    a = a - b\n",
        "    return a, b\n",
        "\n",
        "try:\n",
        "    num1 = float(input(\"first number: \"))\n",
        "    num2 = float(input(\"second number: \"))\n",
        "\n",
        "    num1, num2 = swapValues(num1, num2)\n",
        "\n",
        "    print(\"After swapping:\")\n",
        "    print(\"First number:\", num1)\n",
        "    print(\"Second number:\", num2)\n",
        "except ValueError:\n",
        "    print(\"Invalid input. Please enter valid numbers.\")\n"
      ],
      "metadata": {
        "id": "4XvRknixTh1g",
        "colab": {
          "base_uri": "https://localhost:8080/"
        },
        "outputId": "313b9d0a-c24f-4607-f9d2-a2561c8e6048"
      },
      "execution_count": null,
      "outputs": [
        {
          "output_type": "stream",
          "name": "stdout",
          "text": [
            "first number: 43\n",
            "second number: 54\n",
            "After swapping:\n",
            "First number: 54.0\n",
            "Second number: 43.0\n"
          ]
        }
      ]
    },
    {
      "cell_type": "markdown",
      "metadata": {
        "id": "03jb4GZsBkBS"
      },
      "source": [
        "(3) Write a Python program to calculate the length of a string."
      ]
    },
    {
      "cell_type": "code",
      "execution_count": null,
      "metadata": {
        "id": "YaGLbSHHB8Ej",
        "colab": {
          "base_uri": "https://localhost:8080/"
        },
        "outputId": "3b18dba4-cb63-4593-c1c4-2017bb1439d2"
      },
      "outputs": [
        {
          "output_type": "stream",
          "name": "stdout",
          "text": [
            "Enter a string: python programming language\n",
            "The length of the string is: 27\n"
          ]
        }
      ],
      "source": [
        "def lengthOfString(input_string):\n",
        "    length = 0\n",
        "    for _ in input_string:\n",
        "        length += 1\n",
        "    return length\n",
        "\n",
        "try:\n",
        "    user_string = input(\"Enter a string: \")\n",
        "    length = lengthOfString(user_string)\n",
        "    print(\"The length of the string is:\", length)\n",
        "except Exception as e:\n",
        "    print(\"An error occurred:\", e)\n",
        "\n"
      ]
    },
    {
      "cell_type": "markdown",
      "metadata": {
        "id": "jJDe71iLB616"
      },
      "source": [
        "(4) Write a Python program to count the number of characters in a string.\n",
        "\n",
        "Sample String : 'google.com‘,\n",
        "\n",
        "Expected Result : {'o': 3, 'g': 2, '.': 1, 'e': 1, 'l': 1, 'm': 1, 'c': 1}"
      ]
    },
    {
      "cell_type": "code",
      "execution_count": null,
      "metadata": {
        "id": "MtKskTzbCLaU",
        "colab": {
          "base_uri": "https://localhost:8080/"
        },
        "outputId": "c56f776f-7ec2-4c5d-b485-028e2b58291c"
      },
      "outputs": [
        {
          "output_type": "stream",
          "name": "stdout",
          "text": [
            "Enter a string: python programming language\n",
            "Character count: {'p': 2, 'y': 1, 't': 1, 'h': 1, 'o': 2, 'n': 3, ' ': 2, 'r': 2, 'g': 4, 'a': 3, 'm': 2, 'i': 1, 'l': 1, 'u': 1, 'e': 1}\n"
          ]
        }
      ],
      "source": [
        "def numberOfCharacters(input):\n",
        "    char_count = {}\n",
        "    for char in input:\n",
        "        if char in char_count:\n",
        "            char_count[char] += 1\n",
        "        else:\n",
        "            char_count[char] = 1\n",
        "    return char_count\n",
        "\n",
        "try:\n",
        "    sample_string = input(\"Enter a string: \")\n",
        "    result = numberOfCharacters(sample_string)\n",
        "    print(\"Character count:\", result)\n",
        "except Exception as e:\n",
        "    print(\"An error occurred:\", e)\n"
      ]
    },
    {
      "cell_type": "markdown",
      "metadata": {
        "id": "55W9AMdXCSpV"
      },
      "source": [
        "(5) Write a Python program to sum all the items in a list."
      ]
    },
    {
      "cell_type": "code",
      "execution_count": null,
      "metadata": {
        "id": "I57NXsauCec2",
        "colab": {
          "base_uri": "https://localhost:8080/"
        },
        "outputId": "4e496bcb-4e64-48b9-bb73-a11980e721ef"
      },
      "outputs": [
        {
          "output_type": "stream",
          "name": "stdout",
          "text": [
            "Enter a list of numbers separated by spaces: 12 34 10 5 8 19\n",
            "Sum of the list items: 88.0\n"
          ]
        }
      ],
      "source": [
        "def sumOfItems(input_list):\n",
        "    total = 0\n",
        "    for item in input_list:\n",
        "        total += item\n",
        "    return total\n",
        "\n",
        "try:\n",
        "    input_list = [float(x) for x in input(\"Enter a list of numbers separated by spaces: \").split()]\n",
        "    total_sum = sumOfItems(input_list)\n",
        "    print(\"Sum of the list items:\", total_sum)\n",
        "except ValueError:\n",
        "    print(\"Invalid input. Please enter valid numbers separated by spaces.\")\n",
        "except Exception as e:\n",
        "    print(\"An error occurred:\", e)\n"
      ]
    },
    {
      "cell_type": "markdown",
      "metadata": {
        "id": "4ulBZ6yhCi9F"
      },
      "source": [
        "(6) Write a Python program to get a string from a given string where all occurrences of its first char have been changed to '\\$', except the first char itself.\n",
        "\n",
        "Sample String : 'restart‘,\n",
        "\n",
        "Expected Result : 'resta\\$t'"
      ]
    },
    {
      "cell_type": "code",
      "execution_count": null,
      "metadata": {
        "id": "Fj0XhwbBCw2o",
        "colab": {
          "base_uri": "https://localhost:8080/"
        },
        "outputId": "78005bc6-78a9-4f4d-9a8a-05c14ff12bc3"
      },
      "outputs": [
        {
          "output_type": "stream",
          "name": "stdout",
          "text": [
            "Enter a string: bubble\n",
            "Modified string: bu$$le\n"
          ]
        }
      ],
      "source": [
        "def replaceTheFirstChar(input_string):\n",
        "    first_char = input_string[0]\n",
        "    modified_string = first_char + input_string[1:].replace(first_char, '$')\n",
        "    return modified_string\n",
        "\n",
        "try:\n",
        "    sample_string = input(\"Enter a string: \")\n",
        "    modified_result = replaceTheFirstChar(sample_string)\n",
        "    print(\"Modified string:\", modified_result)\n",
        "except Exception as e:\n",
        "    print(\"An error occurred:\", e)\n"
      ]
    },
    {
      "cell_type": "markdown",
      "source": [
        "(7) Create a program that calculates the factorial of a number using a while loop."
      ],
      "metadata": {
        "id": "qVXA3q7ET5JI"
      }
    },
    {
      "cell_type": "code",
      "source": [
        "def calculateFactorial(n):\n",
        "    factorial = 1\n",
        "    while n > 1:\n",
        "        factorial *= n\n",
        "        n -= 1\n",
        "    return factorial\n",
        "\n",
        "try:\n",
        "    num = int(input(\"Enter a number: \"))\n",
        "    if num < 0:\n",
        "        print(\"Factorial is not defined for negative numbers.\")\n",
        "    else:\n",
        "        factorial_result = calculateFactorial(num)\n",
        "        print(\"Factorial of\", num, \"is:\", factorial_result)\n",
        "except ValueError:\n",
        "    print(\"Invalid input. Please enter a valid integer.\")\n",
        "except Exception as e:\n",
        "    print(\"An error occurred:\", e)\n"
      ],
      "metadata": {
        "id": "Lbt7R6UkT7BA",
        "colab": {
          "base_uri": "https://localhost:8080/"
        },
        "outputId": "afeb19ac-b5d7-4c04-b0fd-c6d3d6d8dc87"
      },
      "execution_count": null,
      "outputs": [
        {
          "output_type": "stream",
          "name": "stdout",
          "text": [
            "Enter a number: 5\n",
            "Factorial of 5 is: 120\n"
          ]
        }
      ]
    },
    {
      "cell_type": "markdown",
      "source": [
        "(8) Create a program that takes a list of numbers as input and outputs a new list with only the even numbers."
      ],
      "metadata": {
        "id": "6YfbzXMNT--R"
      }
    },
    {
      "cell_type": "code",
      "source": [
        "def filterEvenNumbers(input_list):\n",
        "    even_numbers = []\n",
        "    for num in input_list:\n",
        "        if num % 2 == 0:\n",
        "            even_numbers.append(num)\n",
        "    return even_numbers\n",
        "\n",
        "try:\n",
        "    input_list = [int(x) for x in input(\"Enter a list of numbers separated by spaces: \").split()]\n",
        "    even_list = filterEvenNumbers(input_list)\n",
        "    print(\"List of even numbers:\", even_list)\n",
        "except ValueError:\n",
        "    print(\"Invalid input. Please enter valid integers separated by spaces.\")\n",
        "except Exception as e:\n",
        "    print(\"An error occurred:\", e)\n"
      ],
      "metadata": {
        "id": "54q7wMQPUAKu",
        "colab": {
          "base_uri": "https://localhost:8080/"
        },
        "outputId": "9ea92fe2-bfe2-4df8-c29f-d0bf7fbe4c61"
      },
      "execution_count": null,
      "outputs": [
        {
          "output_type": "stream",
          "name": "stdout",
          "text": [
            "Enter a list of numbers separated by spaces: 23 14 33 56 9 1 100 122\n",
            "List of even numbers: [14, 56, 100, 122]\n"
          ]
        }
      ]
    },
    {
      "cell_type": "markdown",
      "metadata": {
        "id": "_bIP7s1MCzue"
      },
      "source": [
        "(9) Write a program with python which could accept two parameter a and b to calculate and output the result of S, where\n",
        "\n",
        "$\\ S=3.14*(1+a/b)^3$\n",
        "\n"
      ]
    },
    {
      "cell_type": "code",
      "execution_count": null,
      "metadata": {
        "id": "w79QilHXD3Mg",
        "colab": {
          "base_uri": "https://localhost:8080/"
        },
        "outputId": "8e3665e8-7086-4b8b-8a77-7f019e3ee91e"
      },
      "outputs": [
        {
          "output_type": "stream",
          "name": "stdout",
          "text": [
            "Enter 'a': 2\n",
            "Enter 'b': 3\n",
            "Result of S: 14.537037037037033\n"
          ]
        }
      ],
      "source": [
        "def calculateS(a, b):\n",
        "    S = 3.14 * (1 + a / b)**3\n",
        "    return S\n",
        "\n",
        "try:\n",
        "    a = float(input(\"Enter 'a': \"))\n",
        "    b = float(input(\"Enter 'b': \"))\n",
        "\n",
        "    result_S = calculateS(a, b)\n",
        "    print(\"Result of S:\", result_S)\n",
        "except ValueError:\n",
        "    print(\"Invalid input. Please enter valid numbers for 'a' and 'b'.\")\n",
        "except ZeroDivisionError:\n",
        "    print(\"'b' should not be zero for the given formula.\")\n",
        "except Exception as e:\n",
        "    print(\"An error occurred:\", e)\n",
        "\n"
      ]
    },
    {
      "cell_type": "markdown",
      "metadata": {
        "id": "xCa2bK9aD4Q3"
      },
      "source": [
        "(10) Write a Python program to concatenate following dictionaries to create a new one.\n",
        "\n",
        "Sample Dictionary : dic1={1:10, 2:20}, dic2={3:30, 4:40}, dic3={5:50,6:60},\n",
        "\n",
        "Expected Result : {1: 10, 2: 20, 3: 30, 4: 40, 5: 50, 6: 60}\n"
      ]
    },
    {
      "cell_type": "code",
      "execution_count": null,
      "metadata": {
        "id": "_z4aLqAbEET1",
        "colab": {
          "base_uri": "https://localhost:8080/"
        },
        "outputId": "856d9217-e208-4b89-915f-b314341c31db"
      },
      "outputs": [
        {
          "output_type": "stream",
          "name": "stdout",
          "text": [
            "Concatenated Dictionary: {1: 10, 2: 20, 3: 30, 4: 40, 5: 50, 6: 60}\n"
          ]
        }
      ],
      "source": [
        "def concatenateDict(*dicts):\n",
        "    result_dict = {}\n",
        "    for dictionary in dicts:\n",
        "        result_dict.update(dictionary)\n",
        "    return result_dict\n",
        "\n",
        "dic1 = {1: 10, 2: 20}\n",
        "dic2 = {3: 30, 4: 40}\n",
        "dic3 = {5: 50, 6: 60}\n",
        "\n",
        "concatenated_dict = concatenateDict(dic1, dic2, dic3)\n",
        "print(\"Concatenated Dictionary:\", concatenated_dict)\n"
      ]
    },
    {
      "cell_type": "markdown",
      "source": [
        "(11) Write a Python function that accepts a tuple of integers and returns the largest and smallest elements."
      ],
      "metadata": {
        "id": "bkyZ2xSZUOst"
      }
    },
    {
      "cell_type": "code",
      "source": [
        "def findLargestAndSmallest(numbersOftuple):\n",
        "    if not numbersOftuple:\n",
        "        return None, None  # Return None for both largest and smallest if the tuple is empty\n",
        "\n",
        "    largest = smallest = numbersOftuple[0]\n",
        "\n",
        "    for num in numbersOftuple:\n",
        "        if num > largest:\n",
        "            largest = num\n",
        "        elif num < smallest:\n",
        "            smallest = num\n",
        "\n",
        "    return largest, smallest\n",
        "\n",
        "try:\n",
        "    input_tuple = tuple(map(int, input(\"Enter a tuple of integers separated by spaces: \").split()))\n",
        "    largestElement, smallestElement = findLargestAndSmallest(input_tuple)\n",
        "\n",
        "    if largestElement is None:\n",
        "        print(\"The tuple is empty.\")\n",
        "    else:\n",
        "        print(\"Largest Value:\", largestElement)\n",
        "        print(\"Smallest Value:\", smallestElement)\n",
        "except ValueError:\n",
        "    print(\"Invalid input. Please enter valid integers separated by spaces.\")\n",
        "except Exception as e:\n",
        "    print(\"An error occurred:\", e)\n"
      ],
      "metadata": {
        "id": "3FdLRBKOUQEd",
        "colab": {
          "base_uri": "https://localhost:8080/"
        },
        "outputId": "133a1992-21c3-45a9-8f84-2f4408c848a7"
      },
      "execution_count": null,
      "outputs": [
        {
          "output_type": "stream",
          "name": "stdout",
          "text": [
            "Enter a tuple of integers separated by spaces: 33 534 55 93 11 34 58\n",
            "Largest Value: 534\n",
            "Smallest Value: 11\n"
          ]
        }
      ]
    },
    {
      "cell_type": "markdown",
      "source": [
        "(12) Write a Python program that counts the frequency of each character in a given string and stores it in a dictionary."
      ],
      "metadata": {
        "id": "O0TVi3gKUTpp"
      }
    },
    {
      "cell_type": "code",
      "source": [
        "def countCharacterFrequency(input):\n",
        "    char_frequency = {}\n",
        "    for char in input:\n",
        "        if char in char_frequency:\n",
        "            char_frequency[char] += 1\n",
        "        else:\n",
        "            char_frequency[char] = 1\n",
        "    return char_frequency\n",
        "\n",
        "try:\n",
        "    input = input(\"Enter a string: \")\n",
        "    frequency_dict = countCharacterFrequency(input)\n",
        "\n",
        "    print(\"Character frequency dictionary:\")\n",
        "    for char, freq in frequency_dict.items():\n",
        "        print(f\"'{char}': {freq}\")\n",
        "except Exception as e:\n",
        "    print(\"An error occurred:\", e)\n"
      ],
      "metadata": {
        "id": "lAtfSfZXUU-h",
        "colab": {
          "base_uri": "https://localhost:8080/"
        },
        "outputId": "f4d194d8-ed3f-4424-a7da-0aa81c27dfca"
      },
      "execution_count": null,
      "outputs": [
        {
          "output_type": "stream",
          "name": "stdout",
          "text": [
            "Enter a string: Python Programming Language\n",
            "Character frequency dictionary:\n",
            "'P': 2\n",
            "'y': 1\n",
            "'t': 1\n",
            "'h': 1\n",
            "'o': 2\n",
            "'n': 3\n",
            "' ': 2\n",
            "'r': 2\n",
            "'g': 4\n",
            "'a': 3\n",
            "'m': 2\n",
            "'i': 1\n",
            "'L': 1\n",
            "'u': 1\n",
            "'e': 1\n"
          ]
        }
      ]
    },
    {
      "cell_type": "markdown",
      "metadata": {
        "id": "0v48Vqa7FrQh"
      },
      "source": [
        "(13) Write a Python program to check whether an element exists within a tuple."
      ]
    },
    {
      "cell_type": "code",
      "execution_count": null,
      "metadata": {
        "id": "7WEmgq-DF2P1",
        "colab": {
          "base_uri": "https://localhost:8080/"
        },
        "outputId": "b4445597-f0e3-4a90-92b7-43736b591636"
      },
      "outputs": [
        {
          "output_type": "stream",
          "name": "stdout",
          "text": [
            "4 exists in the tuple\n"
          ]
        }
      ],
      "source": [
        "# Define a tuple\n",
        "nums = (5, 2, 4, 7, 9)\n",
        "\n",
        "# Element to check\n",
        "element = 4\n",
        "\n",
        "# Check if element exists in tuple\n",
        "if element in nums:\n",
        "  print(f\"{element} exists in the tuple\")\n",
        "else:\n",
        "  print(f\"{element} does not exist in the tuple\")"
      ]
    },
    {
      "cell_type": "markdown",
      "metadata": {
        "id": "vD5PYLMuGga_"
      },
      "source": [
        "(14) Write a Python program to find maximum and the minimum value in a set."
      ]
    },
    {
      "cell_type": "code",
      "execution_count": null,
      "metadata": {
        "id": "t0D5kdJUGjjw",
        "colab": {
          "base_uri": "https://localhost:8080/"
        },
        "outputId": "376bd9ea-52b6-473f-a95b-e0127ef57d5a"
      },
      "outputs": [
        {
          "output_type": "stream",
          "name": "stdout",
          "text": [
            "Minimum value: 2\n",
            "Maximum value: 15\n"
          ]
        }
      ],
      "source": [
        "# Define a set\n",
        "nums = {5, 10, 3, 15, 2, 8}\n",
        "\n",
        "# Get min and max value\n",
        "min_val = min(nums)\n",
        "max_val = max(nums)\n",
        "\n",
        "print(\"Minimum value:\", min_val)\n",
        "print(\"Maximum value:\", max_val)"
      ]
    },
    {
      "cell_type": "markdown",
      "metadata": {
        "id": "uHkd-y5VhVWC"
      },
      "source": [
        "(15) Write a Python program to randomly divide the students in this class into six groups for term projects, each group should have at least 4 students but no more than 6 students (including 6). Here is the students list:\n",
        "student_list_fall_2023=['sb1826' ,\n",
        " 'lb0582' ,\n",
        " 'ab1820' ,\n",
        " 'sb1883' ,\n",
        " 'mb1296' ,\n",
        " 'sc1622' ,\n",
        " 'tc0469' ,\n",
        " 'ac1770' ,\n",
        " 'mc1453' ,\n",
        " 'ad1187' ,\n",
        " 'sd0926' ,\n",
        " 'sd1268' ,\n",
        " 'ag1609' ,\n",
        " 'sg1638' ,\n",
        " 'mg1299' ,\n",
        " 'vkk0022' ,\n",
        " 'bk0413' ,\n",
        " 'gk0257' ,\n",
        " 'am2807' ,\n",
        " 'gm0558' ,\n",
        " 'pm0658' ,\n",
        " 'am2346' ,\n",
        " 'rm1090' ,\n",
        " 'sm2364' ,\n",
        " 'sm2747' ,\n",
        " 'sm2343' ,\n",
        " 'vm0597' ,\n",
        " 'htn0086' ,\n",
        " 'sp2075' ,\n",
        " 'gp0306' ,\n",
        " 'lp0502' ,\n",
        " 'sr1508' ,\n",
        " 'vr0331' ,\n",
        " 'yr0180' ,\n",
        " 'as2819' ,\n",
        " 'ss2981' ,\n",
        " 'ns0756' ,\n",
        " 'mt0825' ,\n",
        " 'dt0463' ,\n",
        " 'su0137' ,\n",
        " 'dv0310'\n",
        "]"
      ]
    },
    {
      "cell_type": "code",
      "execution_count": null,
      "metadata": {
        "id": "3iGbmcOBhTwy",
        "colab": {
          "base_uri": "https://localhost:8080/"
        },
        "outputId": "93dc197a-6a35-4251-ced4-b994f55fcc10"
      },
      "outputs": [
        {
          "output_type": "stream",
          "name": "stdout",
          "text": [
            "Group 1: ['dv0310', 'sg1638', 'gm0558', 'am2807', 'mb1296', 'vr0331']\n",
            "Group 2: ['ad1187', 'ns0756', 'gp0306', 'dt0463', 'sm2747', 'sm2364']\n",
            "Group 3: ['sd0926', 'gk0257', 'lp0502', 'ag1609', 'tc0469']\n",
            "Group 4: ['mg1299', 'htn0086', 'su0137', 'ss2981', 'mt0825']\n",
            "Group 5: ['ac1770', 'bk0413', 'am2346', 'sm2343', 'sd1268', 'vkk0022']\n",
            "Group 6: ['yr0180', 'lb0582', 'sr1508', 'sc1622', 'sp2075']\n",
            "Group 7: ['sb1826', 'sb1883', 'ab1820', 'pm0658']\n",
            "Group 8: ['mc1453', 'as2819', 'rm1090', 'vm0597']\n"
          ]
        }
      ],
      "source": [
        "import random\n",
        "\n",
        "def divideStudentsIntoGroups(student_list, min_group_size, max_group_size):\n",
        "    random.shuffle(student_list)\n",
        "    groups = []\n",
        "    i = 0\n",
        "\n",
        "    while i < len(student_list):\n",
        "        group_size = random.randint(min_group_size, max_group_size)\n",
        "        group = student_list[i:i+group_size]\n",
        "        groups.append(group)\n",
        "        i += group_size\n",
        "\n",
        "    return groups\n",
        "\n",
        "try:\n",
        "    student_list_fall_2023 = ['sb1826', 'lb0582', 'ab1820', 'sb1883', 'mb1296', 'sc1622', 'tc0469', 'ac1770',\n",
        "                              'mc1453', 'ad1187', 'sd0926', 'sd1268', 'ag1609', 'sg1638', 'mg1299', 'vkk0022',\n",
        "                              'bk0413', 'gk0257', 'am2807', 'gm0558', 'pm0658', 'am2346', 'rm1090', 'sm2364',\n",
        "                              'sm2747', 'sm2343', 'vm0597', 'htn0086', 'sp2075', 'gp0306', 'lp0502', 'sr1508',\n",
        "                              'vr0331', 'yr0180', 'as2819', 'ss2981', 'ns0756', 'mt0825', 'dt0463', 'su0137', 'dv0310']\n",
        "\n",
        "    min_group_size = 4\n",
        "    max_group_size = 6\n",
        "\n",
        "    student_groups = divideStudentsIntoGroups(student_list_fall_2023, min_group_size, max_group_size)\n",
        "\n",
        "    for group_number, group in enumerate(student_groups, start=1):\n",
        "        print(f\"Group {group_number}: {group}\")\n",
        "except Exception as e:\n",
        "    print(\"An error occurred:\", e)\n"
      ]
    },
    {
      "cell_type": "markdown",
      "metadata": {
        "id": "fmZ9vX20Qs3d"
      },
      "source": [
        "(16) Write a Python program to find the duplicate elements in a given array of integers. Return -1 If there are no such elements."
      ]
    },
    {
      "cell_type": "code",
      "execution_count": null,
      "metadata": {
        "id": "W8Jw6sWMQs3d",
        "colab": {
          "base_uri": "https://localhost:8080/"
        },
        "outputId": "37358c85-b8e2-4269-a79f-0c41157ab037"
      },
      "outputs": [
        {
          "output_type": "stream",
          "name": "stdout",
          "text": [
            "[3]\n",
            "-1\n"
          ]
        }
      ],
      "source": [
        "def findDuplicates(nums):\n",
        "  seen = set()\n",
        "  duplicates = set()\n",
        "\n",
        "  for num in nums:\n",
        "    if num in seen:\n",
        "      duplicates.add(num)\n",
        "    else:\n",
        "      seen.add(num)\n",
        "\n",
        "  if len(duplicates) > 0:\n",
        "    return list(duplicates)\n",
        "  else:\n",
        "    return -1\n",
        "\n",
        "nums = [1, 2, 3, 4, 3, 5]\n",
        "\n",
        "print(findDuplicates(nums))\n",
        "\n",
        "\n",
        "nums = [1, 2, 3, 4, 5]\n",
        "\n",
        "print(findDuplicates(nums))"
      ]
    },
    {
      "cell_type": "markdown",
      "metadata": {
        "id": "hvq4APMhQs3d"
      },
      "source": [
        "(17) Write a Python program to select all the Sundays of a specified year."
      ]
    },
    {
      "cell_type": "code",
      "execution_count": null,
      "metadata": {
        "id": "ZnoxhSglQs3d",
        "colab": {
          "base_uri": "https://localhost:8080/"
        },
        "outputId": "b0bc164d-5506-4ba3-9d13-7d121a0235f7"
      },
      "outputs": [
        {
          "output_type": "stream",
          "name": "stdout",
          "text": [
            "Enter a year: 2023\n",
            "Total Sundays in 2023:\n",
            "2023-01-01\n",
            "2023-01-08\n",
            "2023-01-15\n",
            "2023-01-22\n",
            "2023-01-29\n",
            "2023-02-05\n",
            "2023-02-12\n",
            "2023-02-19\n",
            "2023-02-26\n",
            "2023-03-05\n",
            "2023-03-12\n",
            "2023-03-19\n",
            "2023-03-26\n",
            "2023-04-02\n",
            "2023-04-09\n",
            "2023-04-16\n",
            "2023-04-23\n",
            "2023-04-30\n",
            "2023-05-07\n",
            "2023-05-14\n",
            "2023-05-21\n",
            "2023-05-28\n",
            "2023-06-04\n",
            "2023-06-11\n",
            "2023-06-18\n",
            "2023-06-25\n",
            "2023-07-02\n",
            "2023-07-09\n",
            "2023-07-16\n",
            "2023-07-23\n",
            "2023-07-30\n",
            "2023-08-06\n",
            "2023-08-13\n",
            "2023-08-20\n",
            "2023-08-27\n",
            "2023-09-03\n",
            "2023-09-10\n",
            "2023-09-17\n",
            "2023-09-24\n",
            "2023-10-01\n",
            "2023-10-08\n",
            "2023-10-15\n",
            "2023-10-22\n",
            "2023-10-29\n",
            "2023-11-05\n",
            "2023-11-12\n",
            "2023-11-19\n",
            "2023-11-26\n",
            "2023-12-03\n",
            "2023-12-10\n",
            "2023-12-17\n",
            "2023-12-24\n",
            "2023-12-31\n"
          ]
        }
      ],
      "source": [
        "import datetime\n",
        "\n",
        "def getNoOfSundays(year):\n",
        "    sundays = []\n",
        "    for month in range(1, 13):\n",
        "        for day in range(1, 32):\n",
        "            try:\n",
        "                date = datetime.date(year, month, day)\n",
        "                if date.weekday() == 6:\n",
        "                    sundays.append(date)\n",
        "            except ValueError:\n",
        "                pass\n",
        "    return sundays\n",
        "\n",
        "specified_year = int(input(\"Enter a year: \"))\n",
        "sundays = getNoOfSundays(specified_year)\n",
        "\n",
        "print(f\"Total Sundays in {specified_year}:\")\n",
        "for sunday in sundays:\n",
        "    print(sunday)\n"
      ]
    },
    {
      "cell_type": "markdown",
      "source": [
        "(18) Build a program that calculates the factorial of a given positive integer. The factorial of a non-negative integer n is the product of all positive integers less than or equal to n."
      ],
      "metadata": {
        "id": "55FWoSJPVVM6"
      }
    },
    {
      "cell_type": "code",
      "source": [
        "def calculateFactorial(n):\n",
        "    if n == 0 or n == 1:\n",
        "        return 1\n",
        "    else:\n",
        "        return n * calculateFactorial(n - 1)\n",
        "\n",
        "try:\n",
        "    num = int(input(\"Enter a positive integer: \"))\n",
        "\n",
        "    if num < 0:\n",
        "        print(\"Factorial is not defined for negative integers.\")\n",
        "    else:\n",
        "        factorial_result = calculateFactorial(num)\n",
        "        print(f\"Factorial of {num} is:\", factorial_result)\n",
        "except ValueError:\n",
        "    print(\"Invalid input. Please enter a valid positive integer.\")\n",
        "except Exception as e:\n",
        "    print(\"An error occurred:\", e)\n"
      ],
      "metadata": {
        "id": "hwtr1wZmVX5A",
        "colab": {
          "base_uri": "https://localhost:8080/"
        },
        "outputId": "7314d3e3-c017-495f-e19e-833b3457b7a3"
      },
      "execution_count": null,
      "outputs": [
        {
          "output_type": "stream",
          "name": "stdout",
          "text": [
            "Enter a positive integer: 5\n",
            "Factorial of 5 is: 120\n"
          ]
        }
      ]
    },
    {
      "cell_type": "markdown",
      "source": [
        "(19) Write a program that takes a positive integer n as input and prints the count of even numbers from 1 to n. Use a loop to iterate through the numbers and utilize the break statement to optimize the loop."
      ],
      "metadata": {
        "id": "Q9ecagcaVazW"
      }
    },
    {
      "cell_type": "code",
      "source": [
        "def countEvenNumbers(n):\n",
        "    count = 0\n",
        "    for num in range(2, n + 1, 2):\n",
        "        count += 1\n",
        "        if num >= n:\n",
        "            break\n",
        "    return count\n",
        "\n",
        "# Get input from the user\n",
        "n = int(input(\"Enter a positive integer: \"))\n",
        "\n",
        "# Call the function and print the result\n",
        "result = countEvenNumbers(n)\n",
        "print(\"Count of even numbers from 1 to\", n, \"is:\", result)\n"
      ],
      "metadata": {
        "id": "gycgckoAVZjR",
        "colab": {
          "base_uri": "https://localhost:8080/"
        },
        "outputId": "9c11ab0d-d87e-4ba8-a733-47c2a6db430d"
      },
      "execution_count": null,
      "outputs": [
        {
          "output_type": "stream",
          "name": "stdout",
          "text": [
            "Enter a positive integer: 101\n",
            "Count of even numbers from 1 to 101 is: 50\n"
          ]
        }
      ]
    },
    {
      "cell_type": "markdown",
      "source": [
        "(20) Write a Python function called count_vowels that takes a string as input and returns the count of vowels (both lowercase and uppercase) present in the string. Consider the vowels to be 'a', 'e', 'i', 'o', and 'u'. Ignore spaces and other non-alphabetic characters."
      ],
      "metadata": {
        "id": "cboAr5pEWUf5"
      }
    },
    {
      "cell_type": "code",
      "source": [
        "def count_vowels(input_string):\n",
        "    vowels = ['a', 'e', 'i', 'o', 'u','A', 'E', 'I', 'O', 'U',]\n",
        "    count = 0\n",
        "\n",
        "    for char in input_string:\n",
        "        if char.lower() in vowels:\n",
        "            count += 1\n",
        "\n",
        "    return count\n",
        "\n",
        "# Test the function\n",
        "input_str = \"Python Programming Language\"\n",
        "result = count_vowels(input_str)\n",
        "print(\"Number of vowels:\", result)\n",
        "\n"
      ],
      "metadata": {
        "id": "phs9gciMWWAW",
        "colab": {
          "base_uri": "https://localhost:8080/"
        },
        "outputId": "1c8ac7b1-c3df-434a-f498-2f1430f0d7a9"
      },
      "execution_count": null,
      "outputs": [
        {
          "output_type": "stream",
          "name": "stdout",
          "text": [
            "Number of vowels: 8\n"
          ]
        }
      ]
    }
  ],
  "metadata": {
    "colab": {
      "provenance": [],
      "include_colab_link": true
    },
    "kernelspec": {
      "display_name": "Python 3 (ipykernel)",
      "language": "python",
      "name": "python3"
    },
    "language_info": {
      "codemirror_mode": {
        "name": "ipython",
        "version": 3
      },
      "file_extension": ".py",
      "mimetype": "text/x-python",
      "name": "python",
      "nbconvert_exporter": "python",
      "pygments_lexer": "ipython3",
      "version": "3.9.12"
    }
  },
  "nbformat": 4,
  "nbformat_minor": 0
}