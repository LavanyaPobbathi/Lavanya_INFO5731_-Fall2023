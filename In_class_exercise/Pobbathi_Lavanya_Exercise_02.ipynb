{
  "cells": [
    {
      "cell_type": "markdown",
      "metadata": {
        "id": "view-in-github",
        "colab_type": "text"
      },
      "source": [
        "<a href=\"https://colab.research.google.com/github/LavanyaPobbathi/Lavanya_INFO5731_Fall2023/blob/main/In_class_exercise/Pobbathi_Lavanya_Exercise_02.ipynb\" target=\"_parent\"><img src=\"https://colab.research.google.com/assets/colab-badge.svg\" alt=\"Open In Colab\"/></a>"
      ]
    },
    {
      "cell_type": "markdown",
      "metadata": {
        "id": "fW5_oFVd9-pY"
      },
      "source": [
        "## The second In-class-exercise (09/13/2023, 40 points in total)"
      ]
    },
    {
      "cell_type": "markdown",
      "source": [
        "Kindly use the provided .ipynb document to write your code or respond to the questions. Avoid generating a new file.\n",
        "Execute all the cells before your final submission."
      ],
      "metadata": {
        "id": "mAzh1U0sE5I5"
      }
    },
    {
      "cell_type": "markdown",
      "source": [
        "This in-class exercise is due tomorrow September 14, 2023 at 11:59 PM. No late submissions will be considered."
      ],
      "metadata": {
        "id": "PpgvZQdRE-HV"
      }
    },
    {
      "cell_type": "markdown",
      "metadata": {
        "id": "9QBZI-je9-pZ"
      },
      "source": [
        "The purpose of this exercise is to understand users' information needs, then collect data from different sources for analysis."
      ]
    },
    {
      "cell_type": "markdown",
      "metadata": {
        "id": "AWoKpYQT9-pa"
      },
      "source": [
        "Question 1 (10 points): Describe an interesting research question (or practical question or something innovative) you have in mind, what kind of data should be collected to answer the question(s)? How many data needed for the analysis? The detail steps for collecting and save the data."
      ]
    },
    {
      "cell_type": "code",
      "execution_count": null,
      "metadata": {
        "id": "-LmNR3kw9-pa",
        "colab": {
          "base_uri": "https://localhost:8080/",
          "height": 122
        },
        "outputId": "0ff905af-4560-4cf5-c252-e601110ecd7e"
      },
      "outputs": [
        {
          "output_type": "execute_result",
          "data": {
            "text/plain": [
              "\"\\nResearch Question: How does age impact Body Mass Index (BMI) and its classification in a specific population, and what insights can this provide for healthcare interventions?\\n\\nData Needed:\\nTo answer this research question, you'll need the following data:\\n\\nAge Data: Collect data on the ages of individuals within the specific population.\\n\\nHeight Data: Gather information about the heights of these individuals.\\n\\nWeight Data: Obtain data regarding the weights of the individuals.\\n\\nBMI Data: Calculate BMI for each individual using the formula: BMI = (Weight in kg) / (Height in meters)^2.\\n\\nBMI Class Data: Determine the BMI classification for each individual (e.g., underweight, normal weight, overweight, obese) based on BMI values.\\n\\nNumber of Data Points Needed:\\nThe number of data points required will depend on the size and diversity of your population. To draw meaningful conclusions, you should aim for a sufficiently large and diverse sample, which might involve data for hundreds or thousands of individuals.\\n\\nSteps for Collecting and Saving the Data:\\n\\nData Collection: Gather the data from individuals within your chosen population. This can be done through surveys, electronic health records, or physical measurements.\\n\\nData Cleaning: Clean the collected data to handle any missing values or outliers. Ensure all data is in a consistent format.\\n\\nBMI Calculation: Calculate BMI for each individual using their weight and height data. Convert height from centimeters to meters for the calculation.\\n\\nBMI Classification: Determine the BMI class for each individual based on their calculated BMI values and predefined BMI ranges for classifications.\\n\\nData Integration: Combine all the collected and computed data into a single dataset. Ensure that there is a common identifier (e.g., unique ID) to link the data.\\n\\nData Storage: Save the integrated dataset in a secure and organized manner. You can use a spreadsheet format (e.g., CSV) or a relational database.\\n\\nData Backup: Implement regular backup procedures to prevent data loss.\\n\\nData Analysis: Utilize statistical analysis techniques to explore how age impacts BMI and BMI classification within the population.\\n\\nVisualization and Reporting: Create visualizations and reports to convey your findings effectively.\\n\\nEthical Considerations: Ensure compliance with data privacy and ethical guidelines, especially when dealing with health-related data. Protect individuals' privacy and anonymize data if necessary.\\n\\n\\n\\n\""
            ],
            "application/vnd.google.colaboratory.intrinsic+json": {
              "type": "string"
            }
          },
          "metadata": {},
          "execution_count": 3
        }
      ],
      "source": [
        "# Your answer here (no code for this question, write down your answer as detail as possible for the above questions):\n",
        "\n",
        "'''\n",
        "Research Question: How does age impact Body Mass Index (BMI) and its classification in a specific population, and what insights can this provide for healthcare interventions?\n",
        "\n",
        "Data Needed:\n",
        "To answer this research question, you'll need the following data:\n",
        "\n",
        "Age Data: Collect data on the ages of individuals within the specific population.\n",
        "\n",
        "Height Data: Gather information about the heights of these individuals.\n",
        "\n",
        "Weight Data: Obtain data regarding the weights of the individuals.\n",
        "\n",
        "BMI Data: Calculate BMI for each individual using the formula: BMI = (Weight in kg) / (Height in meters)^2.\n",
        "\n",
        "BMI Class Data: Determine the BMI classification for each individual (e.g., underweight, normal weight, overweight, obese) based on BMI values.\n",
        "\n",
        "Number of Data Points Needed:\n",
        "The number of data points required will depend on the size and diversity of your population. To draw meaningful conclusions, you should aim for a sufficiently large and diverse sample, which might involve data for hundreds or thousands of individuals.\n",
        "\n",
        "Steps for Collecting and Saving the Data:\n",
        "\n",
        "Data Collection: Gather the data from individuals within your chosen population. This can be done through surveys, electronic health records, or physical measurements.\n",
        "\n",
        "Data Cleaning: Clean the collected data to handle any missing values or outliers. Ensure all data is in a consistent format.\n",
        "\n",
        "BMI Calculation: Calculate BMI for each individual using their weight and height data. Convert height from centimeters to meters for the calculation.\n",
        "\n",
        "BMI Classification: Determine the BMI class for each individual based on their calculated BMI values and predefined BMI ranges for classifications.\n",
        "\n",
        "Data Integration: Combine all the collected and computed data into a single dataset. Ensure that there is a common identifier (e.g., unique ID) to link the data.\n",
        "\n",
        "Data Storage: Save the integrated dataset in a secure and organized manner. You can use a spreadsheet format (e.g., CSV) or a relational database.\n",
        "\n",
        "Data Backup: Implement regular backup procedures to prevent data loss.\n",
        "\n",
        "Data Analysis: Utilize statistical analysis techniques to explore how age impacts BMI and BMI classification within the population.\n",
        "\n",
        "Visualization and Reporting: Create visualizations and reports to convey your findings effectively.\n",
        "\n",
        "Ethical Considerations: Ensure compliance with data privacy and ethical guidelines, especially when dealing with health-related data. Protect individuals' privacy and anonymize data if necessary.\n",
        "\n",
        "\n",
        "\n",
        "'''"
      ]
    },
    {
      "cell_type": "markdown",
      "metadata": {
        "id": "MlxTLRNm9-pa"
      },
      "source": [
        "Question 2 (10 points): Write python code to collect 1000 data samples you discussed above."
      ]
    },
    {
      "cell_type": "code",
      "execution_count": null,
      "metadata": {
        "id": "QpWOgjHi9-pa",
        "colab": {
          "base_uri": "https://localhost:8080/"
        },
        "outputId": "374ee956-b3cf-43c4-b084-f899aee2e3fc"
      },
      "outputs": [
        {
          "output_type": "stream",
          "name": "stdout",
          "text": [
            "Data collection and saving complete.\n"
          ]
        }
      ],
      "source": [
        "# You code here (Please add comments in the code):\n",
        "\n",
        "import random\n",
        "import pandas as pd\n",
        "\n",
        "# Initialize empty lists for data\n",
        "age_data = []\n",
        "height_data = []\n",
        "weight_data = []\n",
        "\n",
        "# Generate random data for 1000 individuals\n",
        "for _ in range(1000):\n",
        "    age = random.randint(18, 80)  # Random age between 18 and 80\n",
        "    height = random.uniform(140, 200)  # Random height in centimeters (140 cm to 200 cm)\n",
        "    weight = random.uniform(40, 120)  # Random weight in kilograms (40 kg to 120 kg)\n",
        "\n",
        "    # Calculate BMI\n",
        "    bmi = weight / ((height / 100) ** 2)\n",
        "\n",
        "    # Determine BMI class based on BMI value\n",
        "    if bmi < 18.5:\n",
        "        bmi_class = \"Underweight\"\n",
        "    elif 18.5 <= bmi < 24.9:\n",
        "        bmi_class = \"Normal Weight\"\n",
        "    elif 25 <= bmi < 29.9:\n",
        "        bmi_class = \"Overweight\"\n",
        "    else:\n",
        "        bmi_class = \"Obese\"\n",
        "\n",
        "    # Append data to respective lists\n",
        "    age_data.append(age)\n",
        "    height_data.append(height)\n",
        "    weight_data.append(weight)\n",
        "\n",
        "# Create a DataFrame\n",
        "data = pd.DataFrame({\n",
        "    'Age': age_data,\n",
        "    'Height (cm)': height_data,\n",
        "    'Weight (kg)': weight_data,\n",
        "    'BMI': [round(weight / ((height / 100) ** 2), 2) for weight, height in zip(weight_data, height_data)],\n",
        "    'BMI Class': [bmi_class for _ in range(1000)]\n",
        "})\n",
        "\n",
        "# Save the data to a CSV file\n",
        "data.to_csv('bmi.csv', index=False)\n",
        "\n",
        "print(\"Data collection and saving complete.\")\n"
      ]
    },
    {
      "cell_type": "markdown",
      "metadata": {
        "id": "px6wgvog9-pa"
      },
      "source": [
        "Question 3 (10 points): Write python code to collect 1000 articles from Google Scholar (https://scholar.google.com/), Microsoft Academic (https://academic.microsoft.com/home), or CiteSeerX (https://citeseerx.ist.psu.edu/index), or Semantic Scholar (https://www.semanticscholar.org/), or ACM Digital Libraries (https://dl.acm.org/) with the keyword \"information retrieval\". The articles should be published in the last 10 years (2013-2023).\n",
        "\n",
        "The following information of the article needs to be collected:\n",
        "\n",
        "(1) Title\n",
        "\n",
        "(2) Venue/journal/conference being published\n",
        "\n",
        "(3) Year\n",
        "\n",
        "(4) Authors\n",
        "\n",
        "(5) Abstract"
      ]
    },
    {
      "cell_type": "code",
      "execution_count": null,
      "metadata": {
        "id": "P5rjlclf9-pb",
        "colab": {
          "base_uri": "https://localhost:8080/"
        },
        "outputId": "300bd068-2e21-446c-a3cb-06d4c943d0f0"
      },
      "outputs": [
        {
          "output_type": "stream",
          "name": "stdout",
          "text": [
            "Collected 600 articles and saved to 'articles.json'.\n"
          ]
        }
      ],
      "source": [
        "# You code here (Please add comments in the code):\n",
        "\n",
        "# Import necessary libraries\n",
        "import requests\n",
        "from bs4 import BeautifulSoup\n",
        "import json\n",
        "\n",
        "# Function to fetch articles from Google Scholar\n",
        "def fetch_google_scholar_articles(query, start_year, end_year, num_articles):\n",
        "    # Base URL for Google Scholar\n",
        "    base_url = \"https://scholar.google.com/scholar\"\n",
        "    articles = []  # List to store the collected articles\n",
        "\n",
        "    # Loop to paginate through search results (10 results per page)\n",
        "    for start in range(0, num_articles, 10):\n",
        "        # Parameters for the search query, including keywords and date range\n",
        "        params = {\n",
        "            \"q\": query,             # Search query\n",
        "            \"as_ylo\": start_year,   # Start year of publication range\n",
        "            \"as_yhi\": end_year,     # End year of publication range\n",
        "            \"start\": start          # Pagination offset\n",
        "        }\n",
        "\n",
        "        # User-Agent header to mimic a web browser\n",
        "        headers = {\n",
        "            \"User-Agent\": \"Mozilla/5.0 (Windows NT 10.0; Win64; x64) AppleWebKit/537.36 (KHTML, like Gecko) Chrome/99.0.1234.0 Safari/537.36\"\n",
        "        }\n",
        "\n",
        "        # Send a GET request to the Google Scholar search URL with parameters and headers\n",
        "        response = requests.get(base_url, params=params, headers=headers)\n",
        "\n",
        "        # Check if the response is successful (HTTP status code 200)\n",
        "        if response.status_code == 200:\n",
        "            # Parse the HTML content of the response using BeautifulSoup\n",
        "            soup = BeautifulSoup(response.text, 'html.parser')\n",
        "\n",
        "            # Find all the search result div elements\n",
        "            results = soup.find_all('div', {'class': 'gs_ri'})\n",
        "\n",
        "            # Iterate through each search result\n",
        "            for result in results:\n",
        "                article = {}  # Dictionary to store article information\n",
        "\n",
        "                # Extract the title of the article (inside an h3 element with class 'gs_rt')\n",
        "                title = result.find('h3', {'class': 'gs_rt'})\n",
        "                if title:\n",
        "                    article['title'] = title.text  # Store the title in the dictionary\n",
        "\n",
        "                # Extract the venue/journal/conference information (inside a div element with class 'gs_a')\n",
        "                venue = result.find('div', {'class': 'gs_a'})\n",
        "                if venue:\n",
        "                    article['venue'] = venue.text  # Store the venue information\n",
        "\n",
        "                # Extract the publication year (from the 'gs_a' div)\n",
        "                year = result.find('div', {'class': 'gs_a'})\n",
        "                if year:\n",
        "                    # Split the text and get the last part (usually the year), then strip whitespace\n",
        "                    year = year.text.split('-')[-1].strip()\n",
        "                    article['year'] = year  # Store the year in the dictionary\n",
        "\n",
        "                # Extract the authors (from the 'gs_a' div)\n",
        "                authors = result.find('div', {'class': 'gs_a'})\n",
        "                if authors:\n",
        "                    # Split the text and get the first part (usually the authors), then strip whitespace\n",
        "                    authors = authors.text.split('-')[0].strip()\n",
        "                    article['authors'] = authors  # Store the authors in the dictionary\n",
        "\n",
        "                # Extract the abstract (inside a div element with class 'gs_rs')\n",
        "                abstract = result.find('div', {'class': 'gs_rs'})\n",
        "                if abstract:\n",
        "                    article['abstract'] = abstract.text  # Store the abstract in the dictionary\n",
        "\n",
        "                # Append the article dictionary to the list of articles\n",
        "                articles.append(article)\n",
        "\n",
        "                # Check if the desired number of articles has been collected\n",
        "                if len(articles) >= num_articles:\n",
        "                    return articles\n",
        "\n",
        "    return articles\n",
        "\n",
        "# Main program\n",
        "if __name__ == \"__main__\":\n",
        "    keyword = \"information retrieval\"  # Keyword for the search\n",
        "    start_year = 2013                # Start year of publication range\n",
        "    end_year = 2023                  # End year of publication range\n",
        "    num_articles = 1000              # Desired number of articles to collect\n",
        "\n",
        "    # Call the fetch_google_scholar_articles function to collect articles\n",
        "    articles = fetch_google_scholar_articles(keyword, start_year, end_year, num_articles)\n",
        "\n",
        "    # Save the collected articles to a JSON file\n",
        "    with open(\"articles.json\", \"w\", encoding=\"utf-8\") as json_file:\n",
        "        json.dump(articles, json_file, indent=4, ensure_ascii=False)\n",
        "\n",
        "    # Print the number of collected articles and a confirmation message\n",
        "    print(f\"Collected {len(articles)} articles and saved to 'articles.json'.\")\n"
      ]
    },
    {
      "cell_type": "markdown",
      "metadata": {
        "id": "GT3CNj_V9-pb"
      },
      "source": [
        "Question 4 (10 points): Write python code to collect 1000 posts from Twitter, or Facebook, or Instagram. You can either use hashtags, keywords, user_name, user_id, or other information to collect the data.\n",
        "\n",
        "The following information needs to be collected:\n",
        "\n",
        "(1) User_name\n",
        "\n",
        "(2) Posted time\n",
        "\n",
        "(3) Text"
      ]
    },
    {
      "cell_type": "code",
      "execution_count": null,
      "metadata": {
        "id": "FymVNKVi9-pb"
      },
      "outputs": [],
      "source": [
        "# You code here (Please add comments in the code):\n",
        "\n",
        "import tweepy\n",
        "import json\n",
        "\n",
        "# Set up your Twitter API credentials\n",
        "consumer_key = 'YOUR_CONSUMER_KEY'\n",
        "consumer_secret = 'YOUR_CONSUMER_SECRET'\n",
        "access_token = 'YOUR_ACCESS_TOKEN'\n",
        "access_token_secret = 'YOUR_ACCESS_TOKEN_SECRET'\n",
        "\n",
        "# Authenticate with the Twitter API\n",
        "auth = tweepy.OAuthHandler(consumer_key, consumer_secret)\n",
        "auth.set_access_token(access_token, access_token_secret)\n",
        "\n",
        "# Create an API object\n",
        "api = tweepy.API(auth, wait_on_rate_limit=True)\n",
        "\n",
        "def collect_tweets_by_keyword(keyword, num_tweets):\n",
        "    tweets = []\n",
        "\n",
        "    # Iterate through pages of tweets to collect the desired number\n",
        "    for tweet in tweepy.Cursor(api.search, q=keyword, tweet_mode='extended').items(num_tweets):\n",
        "        tweet_data = {\n",
        "            'User_name': tweet.user.screen_name,  # User's Twitter handle\n",
        "            'Posted_time': tweet.created_at.strftime('%Y-%m-%d %H:%M:%S'),  # Time of the tweet\n",
        "            'Text': tweet.full_text  # The tweet text\n",
        "        }\n",
        "        tweets.append(tweet_data)\n",
        "\n",
        "    return tweets\n",
        "\n",
        "if __name__ == \"__main__\":\n",
        "    keyword = \"your_keyword_here\"  # Replace with your desired keyword\n",
        "    num_tweets = 1000  # Number of tweets to collect\n",
        "\n",
        "    tweets = collect_tweets_by_keyword(keyword, num_tweets)\n",
        "\n",
        "    # Save the collected tweets to a JSON file\n",
        "    with open(\"tweets.json\", \"w\", encoding=\"utf-8\") as json_file:\n",
        "        json.dump(tweets, json_file, indent=4, ensure_ascii=False)\n",
        "\n",
        "    print(f\"Collected {len(tweets)} tweets and saved to 'tweets.json'.\")\n",
        "\n"
      ]
    }
  ],
  "metadata": {
    "kernelspec": {
      "display_name": "Python 3 (ipykernel)",
      "language": "python",
      "name": "python3"
    },
    "language_info": {
      "codemirror_mode": {
        "name": "ipython",
        "version": 3
      },
      "file_extension": ".py",
      "mimetype": "text/x-python",
      "name": "python",
      "nbconvert_exporter": "python",
      "pygments_lexer": "ipython3",
      "version": "3.9.12"
    },
    "colab": {
      "provenance": [],
      "include_colab_link": true
    }
  },
  "nbformat": 4,
  "nbformat_minor": 0
}