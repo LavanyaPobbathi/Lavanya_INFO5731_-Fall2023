{
  "cells": [
    {
      "cell_type": "markdown",
      "metadata": {
        "id": "view-in-github",
        "colab_type": "text"
      },
      "source": [
        "<a href=\"https://colab.research.google.com/github/LavanyaPobbathi/Lavanya_INFO5731_Fall2023/blob/main/In_class_exercise/Pobbathi_Lavanya_Assignment_01.ipynb\" target=\"_parent\"><img src=\"https://colab.research.google.com/assets/colab-badge.svg\" alt=\"Open In Colab\"/></a>"
      ]
    },
    {
      "cell_type": "markdown",
      "metadata": {
        "id": "Ryk8D1Q4Wsrp"
      },
      "source": [
        "# **INFO5731 Assignment One**"
      ]
    },
    {
      "cell_type": "markdown",
      "metadata": {
        "id": "90_NR8c5XGWc"
      },
      "source": [
        "# Question 1\n",
        "\n",
        "(20 points). Write a Python program to generate 12 random numbers between 1 and 100. Sort the list of numbers in ascending order and print it out. Sort the list of numbers in descending order and print it out. Calculate the average for the group and print it out."
      ]
    },
    {
      "cell_type": "code",
      "execution_count": null,
      "metadata": {
        "id": "5QX6bJjGWXY9",
        "colab": {
          "base_uri": "https://localhost:8080/"
        },
        "outputId": "3b0d6973-840d-42c8-8959-c52ed8739a20"
      },
      "outputs": [
        {
          "output_type": "stream",
          "name": "stdout",
          "text": [
            "Original List: [80, 7, 41, 64, 49, 82, 11, 74, 67, 91, 44, 69]\n",
            "Ascending Sorted: [7, 11, 41, 44, 49, 64, 67, 69, 74, 80, 82, 91]\n",
            "Descending Sorted: [91, 82, 80, 74, 69, 67, 64, 49, 44, 41, 11, 7]\n",
            "Average: 56.583333333333336\n"
          ]
        }
      ],
      "source": [
        "# Your code here\n",
        "\n",
        "import random\n",
        "\n",
        "# Generate 12 random numbers between 1 and 100\n",
        "random_numbers = [random.randint(1, 100) for _ in range(12)]\n",
        "\n",
        "# Sort the list in ascending order\n",
        "ascending_sorted = sorted(random_numbers)\n",
        "\n",
        "# Sort the list in descending order\n",
        "descending_sorted = sorted(random_numbers, reverse=True)\n",
        "\n",
        "# Calculate the average\n",
        "average = sum(random_numbers) / len(random_numbers)\n",
        "\n",
        "# Print the original list, ascending, descending, and average\n",
        "print(\"Original List:\", random_numbers)\n",
        "print(\"Ascending Sorted:\", ascending_sorted)\n",
        "print(\"Descending Sorted:\", descending_sorted)\n",
        "print(\"Average:\", average)\n",
        "\n"
      ]
    },
    {
      "cell_type": "markdown",
      "metadata": {
        "id": "1F_PZdH9Sh49"
      },
      "source": [
        "# Question 2\n",
        "(25 points).\n",
        "\n",
        "Write a program that will do the following string formatting tasks:\n",
        "\n",
        "(1) Ask the user to enter two sentences.\n",
        "\n",
        "(2) Make each sentence into a list. Each element in the list should correspond to a word in the sentence. For example, if the sentence is \"Alas! Am I alive? This is my first python program\", the program should print out ['Alas, '!', 'Am', 'I', 'alive, '?', 'This', 'is', 'my', 'first', 'python', 'program'].\n",
        "\n",
        "(3) Compare the two sentences. Print out a list of words that occur in both sentences.\n",
        "\n",
        "(4) Remove any punctuation from the sentence and print it back out. It should remove at least the following characters, but it can remove more: period(“.”), comma (“,”), semicolon (“;”), and colon (“:”)\n",
        "\n",
        "(5) Count the number of vowels in the sentences. Print out each vowel and the number of times it appears in the sentences, such as: a:2, e:1, i:0, etc"
      ]
    },
    {
      "cell_type": "code",
      "execution_count": null,
      "metadata": {
        "id": "Y0oOSlsOS0cq",
        "colab": {
          "base_uri": "https://localhost:8080/"
        },
        "outputId": "10f62baa-187d-4813-825f-f7c87ec58abf"
      },
      "outputs": [
        {
          "output_type": "stream",
          "name": "stdout",
          "text": [
            "Enter the first sentence: \"I am learning the Computational Methods\"\n",
            "Enter the second sentence: I'm learning the Natural Language Processing (NLP)\n",
            "Words in Sentence 1: ['I', 'am', 'learning', 'the', 'Computational', 'Methods']\n",
            "Words in Sentence 2: ['Im', 'learning', 'the', 'Natural', 'Language', 'Processing', 'NLP']\n",
            "Common Words: ['learning', 'the']\n",
            "Sentence 1 without punctuation: I am learning the Computational Methods\n",
            "Sentence 2 without punctuation: Im learning the Natural Language Processing NLP\n",
            "Vowel Counts in Sentence 1: {'a': 4, 'e': 3, 'i': 3, 'o': 3, 'u': 1, 'A': 0, 'E': 0, 'I': 0, 'O': 0, 'U': 0}\n",
            "Vowel Counts in Sentence 2: {'a': 5, 'e': 4, 'i': 3, 'o': 1, 'u': 2, 'A': 0, 'E': 0, 'I': 0, 'O': 0, 'U': 0}\n"
          ]
        }
      ],
      "source": [
        "import string\n",
        "\n",
        "# Helper function to split a sentence into words\n",
        "def split_sentence_punc(sentence):\n",
        "    words = sentence.split()\n",
        "    # Handle punctuation within words\n",
        "    for i in range(len(words)):\n",
        "        word = words[i]\n",
        "        clean_word = ''.join([c for c in word if c not in string.punctuation])\n",
        "        words[i] = clean_word\n",
        "    return words\n",
        "\n",
        "# Helper function to count vowels in a sentence\n",
        "def count_vowels_sentence(sentence):\n",
        "    vowels = \"aeiouAEIOU\"\n",
        "    vowel_count = {vowel: 0 for vowel in vowels}\n",
        "    for char in sentence:\n",
        "        if char in vowels:\n",
        "            vowel_count[char.lower()] += 1\n",
        "    return vowel_count\n",
        "\n",
        "# Step 1: Ask the user to enter two sentences\n",
        "sentence1 = input(\"Enter the first sentence: \")\n",
        "sentence2 = input(\"Enter the second sentence: \")\n",
        "\n",
        "# Step 2: Split the sentences into lists of words\n",
        "words1 = split_sentence_punc(sentence1)\n",
        "words2 = split_sentence_punc(sentence2)\n",
        "\n",
        "# Step 3: Compare the two sentences and find common words\n",
        "common_words = list(set(words1) & set(words2))\n",
        "\n",
        "# Step 4: Remove punctuation from the sentences\n",
        "sentence1_clean = ' '.join(words1)\n",
        "sentence2_clean = ' '.join(words2)\n",
        "\n",
        "# Step 5: Count vowels in the sentences\n",
        "vowel_count1 = count_vowels_sentence(sentence1_clean)\n",
        "vowel_count2 = count_vowels_sentence(sentence2_clean)\n",
        "\n",
        "# Print the results\n",
        "print(\"Words in Sentence 1:\", words1)\n",
        "print(\"Words in Sentence 2:\", words2)\n",
        "print(\"Common Words:\", common_words)\n",
        "print(\"Sentence 1 without punctuation:\", sentence1_clean)\n",
        "print(\"Sentence 2 without punctuation:\", sentence2_clean)\n",
        "print(\"Vowel Counts in Sentence 1:\", vowel_count1)\n",
        "print(\"Vowel Counts in Sentence 2:\", vowel_count2)\n",
        "\n"
      ]
    },
    {
      "cell_type": "markdown",
      "metadata": {
        "id": "CmFoI4jDS9nx"
      },
      "source": [
        "# Question 3\n",
        "\n",
        "(15 points). The formula that describes the volume V of a sphere with radius r is the following:\n",
        "\n",
        "$ V=\\frac{4}{3}\\ast\\ \\pi\\ast\\ r^3 $\n",
        "\n",
        "Write a program to calculate the value of V when r is in the range of 1–10. Output the result in the following format:\n",
        "\n",
        "\tr\tV\n",
        "\t1\t…\n",
        "\t2\t…\n",
        "\t3\t…\n"
      ]
    },
    {
      "cell_type": "code",
      "execution_count": null,
      "metadata": {
        "id": "pEyqeioAT95b",
        "colab": {
          "base_uri": "https://localhost:8080/"
        },
        "outputId": "ed2dd7a4-0ac5-4e4c-e8d1-a2dac5c33a96"
      },
      "outputs": [
        {
          "output_type": "stream",
          "name": "stdout",
          "text": [
            "r    V\n",
            "1    4.19\n",
            "2    33.51\n",
            "3    113.10\n",
            "4    268.08\n",
            "5    523.60\n",
            "6    904.78\n",
            "7    1436.76\n",
            "8    2144.66\n",
            "9    3053.63\n",
            "10    4188.79\n"
          ]
        }
      ],
      "source": [
        "# Your code here\n",
        "\n",
        "import math\n",
        "\n",
        "# Print the header\n",
        "print(\"r    V\")\n",
        "\n",
        "# Iterate through the range of radii from 1 to 10\n",
        "for r in range(1, 11):\n",
        "    # Calculate the volume using the formula\n",
        "    V = (4/3) * math.pi * (r**3)\n",
        "\n",
        "    # Print the radius and volume in the specified format\n",
        "    print(f\"{r}    {V:.2f}\")\n"
      ]
    },
    {
      "cell_type": "markdown",
      "metadata": {
        "id": "z3tBE7E-Xn5X"
      },
      "source": [
        "# Question 4\n",
        "\n",
        "(40 points). In the field of Data Science, data is often formatted as a comma-delimited (CSV) file, where each line in a file corresponds to a field's value. Refer to Chapter 9 (p. 106) for more information on comma-delimited files. To answer this question, you will need to download the file [Assignment1_denton_housing.csv](https://raw.githubusercontent.com/unt-iialab/info5731-spring2022/main/assignments/Assignment1_denton_housing.csv) included with this assignment. The file [Assignment1_denton_housing.csv](https://raw.githubusercontent.com/unt-iialab/info5731-spring2022/main/assignments/Assignment1_denton_housing.csv) contains statistics about housing in the city of Denton from 2008 to 2014. Write a program to implement the following questions.\n",
        "\n",
        "(1) (10 pts) Calculate the difference in the number of Occupied Housing Units from year to year and print it. The difference must be calculated for the consecutive years such as 2008-2009, 2009-2010 etc. Finally, print the values in the ascending order.\n",
        "\n",
        "(2) (10 pts) For all the years, calculate the percentage of housing units which are vacant an occupied. Print the results in the following format:\n",
        "\n",
        "Year Vacant Housing Units Occupied Housing Units\n",
        "\n",
        "    2008  30%   70%                          \n",
        "\t2009 ----- -----\n",
        "\t2010 ----- -----\n",
        "    2011 ----- -----\n",
        "\t2012 ----- -----\n",
        "    2013 ----- -----\n",
        "\t2014 ----- -----\n",
        "  \n",
        "  \n",
        "\n",
        "(3) (10 pts) Calculate and print the valued and years in which the highest number of housing units were vacant and occupied. Print the results in the following format:  \n",
        "\n",
        "                              Year\tValue\n",
        "\tVacant Housing Units\t  -----   -----\n",
        "\tOccupied Housing Units\t-----   -----\n",
        "\n",
        "(4) (10 pts) Calculate the harmonic mean of the total housing units and print it out. You can find the information about harmonic mean here: https://ncalculators.com/statistics/harmonic-mean-calculator.htm"
      ]
    },
    {
      "cell_type": "code",
      "source": [
        "import pandas as pd\n",
        "\n",
        "# Load the CSV file into a DataFrame\n",
        "df = pd.read_csv(\"Assignment1_denton_housing.csv\")\n",
        "\n",
        "# Filter the rows where title_field is \"Occupied Housing Units\"\n",
        "occupied_units_df = df[df[\"title_field\"] == \"Occupied Housing Units\"]\n",
        "\n",
        "# Sort the DataFrame by year\n",
        "occupied_units_df = occupied_units_df.sort_values(by=\"year\")\n",
        "\n",
        "# Calculate the difference in Occupied Housing Units from year to year\n",
        "occupied_units_df[\"Occupied Housing Units Difference\"] = occupied_units_df[\"value\"].diff()\n",
        "\n",
        "# Print the values in ascending order\n",
        "print(occupied_units_df[[\"year\", \"Occupied Housing Units Difference\"]])\n"
      ],
      "metadata": {
        "colab": {
          "base_uri": "https://localhost:8080/"
        },
        "id": "sfh8gaVRbs9u",
        "outputId": "dae0cd27-9a24-413c-ad2d-76d2974a7bd6"
      },
      "execution_count": 9,
      "outputs": [
        {
          "output_type": "stream",
          "name": "stdout",
          "text": [
            "    year  Occupied Housing Units Difference\n",
            "20  2008                                NaN\n",
            "17  2009                             -795.0\n",
            "14  2010                             5091.0\n",
            "11  2011                             -303.0\n",
            "8   2012                             1404.0\n",
            "5   2013                             1565.0\n",
            "2   2014                             2622.0\n"
          ]
        }
      ]
    },
    {
      "cell_type": "code",
      "source": [
        "import csv\n",
        "\n",
        "# Initialize dictionaries to store vacant and occupied housing units for each year\n",
        "vacant_units = {}\n",
        "occupied_units = {}\n",
        "\n",
        "# Read the CSV file and populate the dictionaries\n",
        "with open('Assignment1_denton_housing.csv', mode='r') as file:\n",
        "    reader = csv.DictReader(file)\n",
        "    for row in reader:\n",
        "        year = int(row['year'])\n",
        "        title = row['title_field']\n",
        "        value = int(row['value'])\n",
        "\n",
        "        if title == 'Vacant Housing Units':\n",
        "            vacant_units[year] = value\n",
        "        elif title == 'Occupied Housing Units':\n",
        "            occupied_units[year] = value\n",
        "\n",
        "# Print the header\n",
        "print(\"Year Vacant Housing Units Occupied Housing Units\")\n",
        "\n",
        "# Calculate and print the percentages for each year\n",
        "for year in range(2008, 2015):\n",
        "    vacant = vacant_units.get(year, 0)\n",
        "    occupied = occupied_units.get(year, 0)\n",
        "    total = vacant + occupied\n",
        "\n",
        "    # Calculate percentages and format the output\n",
        "    if total > 0:\n",
        "        vacant_percentage = (vacant / total) * 100\n",
        "        occupied_percentage = (occupied / total) * 100\n",
        "    else:\n",
        "        vacant_percentage = occupied_percentage = '-----'\n",
        "\n",
        "    print(f\"{year} {vacant_percentage:.1f}%  {occupied_percentage:.1f}%\")\n"
      ],
      "metadata": {
        "colab": {
          "base_uri": "https://localhost:8080/"
        },
        "id": "kp74WkxscjEU",
        "outputId": "1253861d-7e69-4e6e-b390-03ccff5112f5"
      },
      "execution_count": 12,
      "outputs": [
        {
          "output_type": "stream",
          "name": "stdout",
          "text": [
            "Year Vacant Housing Units Occupied Housing Units\n",
            "2008 10.9%  89.1%\n",
            "2009 9.1%  90.9%\n",
            "2010 8.1%  91.9%\n",
            "2011 9.4%  90.6%\n",
            "2012 6.7%  93.3%\n",
            "2013 8.8%  91.2%\n",
            "2014 5.7%  94.3%\n"
          ]
        }
      ]
    },
    {
      "cell_type": "code",
      "source": [
        "#question 3\n",
        "\n",
        "import pandas as pd\n",
        "\n",
        "# Load the CSV file into a DataFrame\n",
        "data = pd.read_csv(\"Assignment1_denton_housing.csv\")\n",
        "\n",
        "# Filter the data for Vacant and Occupied Housing Units\n",
        "vacant_data = data[data['title_field'] == 'Vacant Housing Units']\n",
        "occupied_data = data[data['title_field'] == 'Occupied Housing Units']\n",
        "\n",
        "# Find the year with the highest number of vacant housing units\n",
        "max_vacant_year = vacant_data.loc[vacant_data['value'].idxmax()]['year']\n",
        "max_vacant_value = vacant_data['value'].max()\n",
        "\n",
        "# Find the year with the highest number of occupied housing units\n",
        "max_occupied_year = occupied_data.loc[occupied_data['value'].idxmax()]['year']\n",
        "max_occupied_value = occupied_data['value'].max()\n",
        "\n",
        "# Create a DataFrame for the output\n",
        "output_df = pd.DataFrame({\n",
        "    'Year': ['-----', '-----'],\n",
        "    'Value': ['-----', '-----']\n",
        "}, index=['Vacant Housing Units', 'Occupied Housing Units'])\n",
        "\n",
        "# Update the DataFrame with the actual values\n",
        "output_df.loc['Vacant Housing Units', 'Year'] = max_vacant_year\n",
        "output_df.loc['Vacant Housing Units', 'Value'] = max_vacant_value\n",
        "output_df.loc['Occupied Housing Units', 'Year'] = max_occupied_year\n",
        "output_df.loc['Occupied Housing Units', 'Value'] = max_occupied_value\n",
        "\n",
        "# Print the results\n",
        "print(output_df)\n",
        "\n"
      ],
      "metadata": {
        "colab": {
          "base_uri": "https://localhost:8080/"
        },
        "id": "FcYzYGShHpba",
        "outputId": "9b602fe8-5a11-4b68-ebb3-1bfdbc7a6c0a"
      },
      "execution_count": null,
      "outputs": [
        {
          "output_type": "stream",
          "name": "stdout",
          "text": [
            "                        Year  Value\n",
            "Vacant Housing Units    2008   4483\n",
            "Occupied Housing Units  2014  46295\n"
          ]
        }
      ]
    },
    {
      "cell_type": "code",
      "source": [
        "#question 4\n",
        "\n",
        "import pandas as pd\n",
        "import scipy.stats as stats\n",
        "\n",
        "# Load the CSV file into a DataFrame\n",
        "data = pd.read_csv(\"Assignment1_denton_housing.csv\")\n",
        "\n",
        "# Filter the data for Total Housing Units\n",
        "total_units_data = data[data['title_field'] == 'Total Housing Units']\n",
        "\n",
        "# Calculate the harmonic mean\n",
        "harmonic_mean = stats.hmean(total_units_data['value'])\n",
        "\n",
        "# Print the harmonic mean\n",
        "print(f\"Harmonic Mean of Total Housing Units: {harmonic_mean:.2f}\")\n"
      ],
      "metadata": {
        "colab": {
          "base_uri": "https://localhost:8080/"
        },
        "id": "QG6el8HfKfsI",
        "outputId": "0e7b19d4-9964-4241-906b-1e4a27cd6da2"
      },
      "execution_count": null,
      "outputs": [
        {
          "output_type": "stream",
          "name": "stdout",
          "text": [
            "Harmonic Mean of Total Housing Units: 44398.29\n"
          ]
        }
      ]
    }
  ],
  "metadata": {
    "colab": {
      "provenance": [],
      "include_colab_link": true
    },
    "kernelspec": {
      "display_name": "Python 3 (ipykernel)",
      "language": "python",
      "name": "python3"
    },
    "language_info": {
      "codemirror_mode": {
        "name": "ipython",
        "version": 3
      },
      "file_extension": ".py",
      "mimetype": "text/x-python",
      "name": "python",
      "nbconvert_exporter": "python",
      "pygments_lexer": "ipython3",
      "version": "3.9.12"
    }
  },
  "nbformat": 4,
  "nbformat_minor": 0
}